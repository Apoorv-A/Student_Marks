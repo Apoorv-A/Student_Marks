{
  "nbformat": 4,
  "nbformat_minor": 0,
  "metadata": {
    "colab": {
      "provenance": []
    },
    "kernelspec": {
      "name": "python3",
      "display_name": "Python 3"
    },
    "language_info": {
      "name": "python"
    }
  },
  "cells": [
    {
      "cell_type": "code",
      "source": [
        "import numpy as np\n",
        "import pandas as pd\n",
        "!pip install faker\n",
        "from faker import Faker\n",
        "import datetime\n",
        "import matplotlib.pyplot as plt\n",
        "import seaborn as sns\n",
        "\n",
        "# Set a random seed for reproducibility\n",
        "np.random.seed(42)\n",
        "\n",
        "import numpy as np\n",
        "\n",
        "# Define the range and student count\n",
        "lower_bound = 0\n",
        "upper_bound = 100\n",
        "student_count = 1000000\n",
        "\n",
        "# Generate random integer scores for each subject within the specified range\n",
        "English_scores = np.random.randint(lower_bound, upper_bound + 1, student_count)\n",
        "Maths_scores = np.random.randint(lower_bound, upper_bound + 1, student_count)\n",
        "Physics_scores = np.random.randint(lower_bound, upper_bound + 1, student_count)\n",
        "Chemistry_scores = np.random.randint(lower_bound, upper_bound + 1, student_count)\n",
        "Biology_scores = np.random.randint(lower_bound, upper_bound + 1, student_count)\n",
        "Social_Studies_scores = np.random.randint(lower_bound, upper_bound + 1, student_count)\n",
        "Optional_scores = np.random.randint(lower_bound, upper_bound + 1, student_count)\n",
        "\n",
        "# Initialize Faker with an Indian locale\n",
        "fake = Faker('en_IN')\n",
        "\n",
        "# Create a list of 100000 random Indian names\n",
        "indian_names = [fake.name() for _ in range(student_count)]\n",
        "\n",
        "# Create a single DataFrame to store the scores\n",
        "data = {\n",
        "    'StudentID': range(1, student_count + 1),\n",
        "    'Student_Names': indian_names,\n",
        "    'Gender': ['Male' if np.random.randint(0, 2) == 0 else 'Female' for _ in range(student_count)],\n",
        "    'Age': [np.random.randint(14,16) for _ in range(student_count)],\n",
        "    'Attendance_Percentage': [np.random.uniform(70, 100) for _ in range(student_count)],\n",
        "    'English_Score': English_scores,\n",
        "    'Maths_Score': Maths_scores,\n",
        "    'Physics_Score': Physics_scores,\n",
        "    'Chemistry_Score' : Chemistry_scores,\n",
        "    'Biology_Score' : Biology_scores,\n",
        "    'Social_Studies_Score' : Social_Studies_scores,\n",
        "    'Optional_Score': Optional_scores\n",
        "}\n",
        "\n",
        "df = pd.DataFrame(data)\n",
        "\n",
        "# Simulated Graduation Year\n",
        "df['Graduation_Year'] = np.random.randint(2023, 2026, size=student_count)\n",
        "\n",
        "# Display the first few rows of the DataFrame\n",
        "print(df.head())\n"
      ],
      "metadata": {
        "colab": {
          "base_uri": "https://localhost:8080/"
        },
        "id": "L9_5PgnT_piI",
        "outputId": "0f303c36-7907-4a2d-cd9e-5e33a7eb477b"
      },
      "execution_count": 7,
      "outputs": [
        {
          "output_type": "stream",
          "name": "stdout",
          "text": [
            "Requirement already satisfied: faker in /usr/local/lib/python3.10/dist-packages (20.1.0)\n",
            "Requirement already satisfied: python-dateutil>=2.4 in /usr/local/lib/python3.10/dist-packages (from faker) (2.8.2)\n",
            "Requirement already satisfied: six>=1.5 in /usr/local/lib/python3.10/dist-packages (from python-dateutil>=2.4->faker) (1.16.0)\n",
            "   StudentID     Student_Names  Gender  Age  Attendance_Percentage  \\\n",
            "0          1       Eshani Vora  Female   14              79.984814   \n",
            "1          2       Aarna Kakar  Female   14              90.021256   \n",
            "2          3  Uthkarsh Goswami  Female   15              86.351724   \n",
            "3          4    Reyansh Bhagat    Male   15              95.933699   \n",
            "4          5  Neysa Srinivasan  Female   14              96.932440   \n",
            "\n",
            "   English_Score  Maths_Score  Physics_Score  Chemistry_Score  Biology_Score  \\\n",
            "0             51           19              8               12             13   \n",
            "1             92           62             84               80             62   \n",
            "2             14           67             68               36             93   \n",
            "3             71           26             18               36             56   \n",
            "4             60           43             60               61             21   \n",
            "\n",
            "   Social_Studies_Score  Optional_Score  Graduation_Year  \n",
            "0                    49              88             2024  \n",
            "1                    11              15             2025  \n",
            "2                    37              37             2023  \n",
            "3                    62              38             2023  \n",
            "4                    36              85             2025  \n"
          ]
        }
      ]
    },
    {
      "cell_type": "code",
      "source": [
        "list(df.columns)"
      ],
      "metadata": {
        "colab": {
          "base_uri": "https://localhost:8080/"
        },
        "id": "mG60x_8_lav5",
        "outputId": "2e6ade5a-293f-465b-8f57-4a1a4173016d"
      },
      "execution_count": 8,
      "outputs": [
        {
          "output_type": "execute_result",
          "data": {
            "text/plain": [
              "['StudentID',\n",
              " 'Student_Names',\n",
              " 'Gender',\n",
              " 'Age',\n",
              " 'Attendance_Percentage',\n",
              " 'English_Score',\n",
              " 'Maths_Score',\n",
              " 'Physics_Score',\n",
              " 'Chemistry_Score',\n",
              " 'Biology_Score',\n",
              " 'Social_Studies_Score',\n",
              " 'Optional_Score',\n",
              " 'Graduation_Year']"
            ]
          },
          "metadata": {},
          "execution_count": 8
        }
      ]
    },
    {
      "cell_type": "code",
      "source": [
        "df.iloc[0]"
      ],
      "metadata": {
        "colab": {
          "base_uri": "https://localhost:8080/"
        },
        "id": "7mJYqBRpa0im",
        "outputId": "4eff9028-ff92-48d4-a423-4256a1829528"
      },
      "execution_count": 9,
      "outputs": [
        {
          "output_type": "execute_result",
          "data": {
            "text/plain": [
              "StudentID                          1\n",
              "Student_Names            Eshani Vora\n",
              "Gender                        Female\n",
              "Age                               14\n",
              "Attendance_Percentage      79.984814\n",
              "English_Score                     51\n",
              "Maths_Score                       19\n",
              "Physics_Score                      8\n",
              "Chemistry_Score                   12\n",
              "Biology_Score                     13\n",
              "Social_Studies_Score              49\n",
              "Optional_Score                    88\n",
              "Graduation_Year                 2024\n",
              "Name: 0, dtype: object"
            ]
          },
          "metadata": {},
          "execution_count": 9
        }
      ]
    },
    {
      "cell_type": "code",
      "source": [
        "# num_students = 1000000\n",
        "\n",
        "\n",
        "# average_midterm_score = np.mean(midterm_scores)\n",
        "# average_quarterly_score = np.mean(quarterly_scores)\n",
        "# average_preboard_score = np.mean(preboard_scores)\n",
        "# average_final_score = np.mean(final_scores)\n",
        "\n",
        "# median_midterm_score = np.median(midterm_scores)\n",
        "# median_quarterly_score = np.median(quarterly_scores)\n",
        "# median_preboard_score = np.median(preboard_scores)\n",
        "# median_final_score = np.median(final_scores)\n",
        "\n",
        "# pass_rate_midterm = sum(midterm_scores >= 60) / num_students\n",
        "# pass_rate_quarterly = sum(quarterly_scores >= 60) / num_students\n",
        "# pass_rate_preboard = sum(preboard_scores >= 60) / num_students\n",
        "# pass_rate_final = sum(final_scores >= 60) / num_students\n",
        "\n",
        "# top_10_percent_midterm = np.percentile(midterm_scores, 90)\n",
        "# top_10_percent_quarterly = np.percentile(quarterly_scores, 90)\n",
        "# top_10_percent_preboard = np.percentile(preboard_scores, 90)\n",
        "# top_10_percent_final = np.percentile(final_scores, 90)\n",
        "\n",
        "# bottom_10_percent_midterm = np.percentile(midterm_scores, 10)\n",
        "# bottom_10_percent_quarterly = np.percentile(quarterly_scores, 10)\n",
        "# bottom_10_percent_preboard = np.percentile(preboard_scores, 10)\n",
        "# bottom_10_percent_final = np.percentile(final_scores, 10)\n",
        "\n",
        "# std_deviation_midterm = np.std(midterm_scores)\n",
        "# std_deviation_quarterly = np.std(quarterly_scores)\n",
        "# std_deviation_preboard = np.std(preboard_scores)\n",
        "# std_deviation_final = np.std(final_scores)\n",
        "\n",
        "# # Print KPIs\n",
        "# print(\"KPIs based on Student Scores:\")\n",
        "# print(\"1. Average Midterm Score:\", average_midterm_score)\n",
        "# print(\"2. Average Quarterly Score:\", average_quarterly_score)\n",
        "# print(\"3. Average Preboard Score:\", average_preboard_score)\n",
        "# print(\"4. Average Final Score:\", average_final_score)\n",
        "# print(\"5. Median Midterm Score:\", median_midterm_score)\n",
        "# print(\"6. Median Quarterly Score:\", median_quarterly_score)\n",
        "# print(\"7. Median Preboard Score:\", median_preboard_score)\n",
        "# print(\"8. Median Final Score:\", median_final_score)\n",
        "# print(\"9. Pass Rate (Midterm):\", pass_rate_midterm)\n",
        "# print(\"10. Pass Rate (Quarterly):\", pass_rate_quarterly)\n",
        "# print(\"11. Pass Rate (Preboard):\", pass_rate_preboard)\n",
        "# print(\"12. Pass Rate (Final):\", pass_rate_final)\n",
        "# print(\"13. Top 10% Score (Midterm):\", top_10_percent_midterm)\n",
        "# print(\"14. Top 10% Score (Quarterly):\", top_10_percent_quarterly)\n",
        "# print(\"15. Top 10% Score (Preboard):\", top_10_percent_preboard)\n",
        "# print(\"16. Top 10% Score (Final):\", top_10_percent_final)\n",
        "# print(\"17. Bottom 10% Score (Midterm):\", bottom_10_percent_midterm)\n",
        "# print(\"18. Bottom 10% Score (Quarterly):\", bottom_10_percent_quarterly)\n",
        "# print(\"19. Bottom 10% Score (Preboard):\", bottom_10_percent_preboard)\n",
        "# print(\"20. Bottom 10% Score (Final):\", bottom_10_percent_final)\n",
        "# print(\"21. Standard Deviation (Midterm):\", std_deviation_midterm)\n",
        "# print(\"22. Standard Deviation (Quarterly):\", std_deviation_quarterly)\n",
        "# print(\"23. Standard Deviation (Preboard):\", std_deviation_preboard)\n",
        "# print(\"24. Standard Deviation (Final):\", std_deviation_final)"
      ],
      "metadata": {
        "id": "oTqOg7NCnpJX"
      },
      "execution_count": 10,
      "outputs": []
    },
    {
      "cell_type": "code",
      "source": [
        "df.to_csv('/content/student_marks.csv', index=False)\n"
      ],
      "metadata": {
        "id": "vZXre6s5kCcZ"
      },
      "execution_count": 11,
      "outputs": []
    },
    {
      "cell_type": "code",
      "source": [
        "!pip install pyspark\n",
        "\n",
        "from pyspark.sql import SparkSession\n"
      ],
      "metadata": {
        "colab": {
          "base_uri": "https://localhost:8080/"
        },
        "id": "yURD3-58FPkq",
        "outputId": "1a4c8fc9-d8e7-4bf0-d336-e4cc3fd93a67"
      },
      "execution_count": 12,
      "outputs": [
        {
          "output_type": "stream",
          "name": "stdout",
          "text": [
            "Collecting pyspark\n",
            "  Downloading pyspark-3.5.0.tar.gz (316.9 MB)\n",
            "\u001b[2K     \u001b[90m━━━━━━━━━━━━━━━━━━━━━━━━━━━━━━━━━━━━━━━━\u001b[0m \u001b[32m316.9/316.9 MB\u001b[0m \u001b[31m4.5 MB/s\u001b[0m eta \u001b[36m0:00:00\u001b[0m\n",
            "\u001b[?25h  Preparing metadata (setup.py) ... \u001b[?25l\u001b[?25hdone\n",
            "Requirement already satisfied: py4j==0.10.9.7 in /usr/local/lib/python3.10/dist-packages (from pyspark) (0.10.9.7)\n",
            "Building wheels for collected packages: pyspark\n",
            "  Building wheel for pyspark (setup.py) ... \u001b[?25l\u001b[?25hdone\n",
            "  Created wheel for pyspark: filename=pyspark-3.5.0-py2.py3-none-any.whl size=317425345 sha256=18b0bb7ce14c91f3db058bd64025faf5d7a8146a981bd04fb99cd77d9b3e9da3\n",
            "  Stored in directory: /root/.cache/pip/wheels/41/4e/10/c2cf2467f71c678cfc8a6b9ac9241e5e44a01940da8fbb17fc\n",
            "Successfully built pyspark\n",
            "Installing collected packages: pyspark\n",
            "Successfully installed pyspark-3.5.0\n"
          ]
        }
      ]
    },
    {
      "cell_type": "code",
      "source": [
        "spark = SparkSession.builder.appName(\"MySparkSession\").getOrCreate()"
      ],
      "metadata": {
        "id": "1I6dCGJgFPnN"
      },
      "execution_count": 13,
      "outputs": []
    },
    {
      "cell_type": "code",
      "source": [
        "df = spark.read.csv(\"/content/student_marks.csv\", header=True, inferSchema=True)\n"
      ],
      "metadata": {
        "id": "4zGZTgJvFPph"
      },
      "execution_count": 14,
      "outputs": []
    },
    {
      "cell_type": "code",
      "source": [
        "df.createOrReplaceTempView(\"my_table\")\n"
      ],
      "metadata": {
        "id": "7UrBnpebFPrj"
      },
      "execution_count": 15,
      "outputs": []
    },
    {
      "cell_type": "code",
      "source": [
        "#Calculate the average age of students:\n",
        "\n",
        "query1 = \"SELECT AVG(Age) AS AvgAge FROM my_table\"\n",
        "\n",
        "spark.sql(query1).show()\n"
      ],
      "metadata": {
        "colab": {
          "base_uri": "https://localhost:8080/"
        },
        "id": "J30-rh-kAmn1",
        "outputId": "0eecea1e-411d-4fe2-d21e-d289646c0f9e"
      },
      "execution_count": 16,
      "outputs": [
        {
          "output_type": "stream",
          "name": "stdout",
          "text": [
            "+---------+\n",
            "|   AvgAge|\n",
            "+---------+\n",
            "|14.500605|\n",
            "+---------+\n",
            "\n"
          ]
        }
      ]
    },
    {
      "cell_type": "code",
      "source": [
        "#Calculate the average age of students:\n",
        "\n",
        "query2 = \"\"\"\n",
        "SELECT AVG(Age) AS AvgAge\n",
        "FROM my_table\n",
        "\"\"\"\n",
        "\n",
        "spark.sql(query2).show()\n"
      ],
      "metadata": {
        "colab": {
          "base_uri": "https://localhost:8080/"
        },
        "id": "JzJkUOiMFPtu",
        "outputId": "544804b3-b02a-4b8a-9d10-0a316d3f974a"
      },
      "execution_count": 17,
      "outputs": [
        {
          "output_type": "stream",
          "name": "stdout",
          "text": [
            "+---------+\n",
            "|   AvgAge|\n",
            "+---------+\n",
            "|14.500605|\n",
            "+---------+\n",
            "\n"
          ]
        }
      ]
    },
    {
      "cell_type": "code",
      "source": [
        "#Calculate the average attendance percentage by gender:\n",
        "\n",
        "query4 = \"\"\"\n",
        "SELECT Gender, AVG(Attendance_Percentage) AS AvgAttendance\n",
        "FROM my_table\n",
        "GROUP BY Gender\n",
        "\"\"\"\n",
        "\n",
        "spark.sql(query4).show()\n"
      ],
      "metadata": {
        "colab": {
          "base_uri": "https://localhost:8080/"
        },
        "id": "AgXF8WmZH6LI",
        "outputId": "f7bb5a3f-6a5c-46dd-da0e-d1342502473c"
      },
      "execution_count": 18,
      "outputs": [
        {
          "output_type": "stream",
          "name": "stdout",
          "text": [
            "+------+----------------+\n",
            "|Gender|   AvgAttendance|\n",
            "+------+----------------+\n",
            "|Female|84.9890873267074|\n",
            "|  Male|85.0013850822495|\n",
            "+------+----------------+\n",
            "\n"
          ]
        }
      ]
    },
    {
      "cell_type": "code",
      "source": [
        "#Find the highest and lowest Maths scores:\n",
        "\n",
        "query5 = \"\"\"\n",
        "SELECT\n",
        "  MAX(`Maths_Score`) AS HighestMathsScore,\n",
        "  MIN(`Maths_Score`) AS LowestMathsScore\n",
        "FROM my_table\n",
        "\"\"\"\n",
        "\n",
        "spark.sql(query5).show()\n"
      ],
      "metadata": {
        "colab": {
          "base_uri": "https://localhost:8080/"
        },
        "id": "hU8sQBVqH6Ng",
        "outputId": "73c9b1ad-a829-4d5a-97ab-29b276d32c1e"
      },
      "execution_count": 19,
      "outputs": [
        {
          "output_type": "stream",
          "name": "stdout",
          "text": [
            "+-----------------+----------------+\n",
            "|HighestMathsScore|LowestMathsScore|\n",
            "+-----------------+----------------+\n",
            "|              100|               0|\n",
            "+-----------------+----------------+\n",
            "\n"
          ]
        }
      ]
    },
    {
      "cell_type": "code",
      "source": [
        "list(df.columns)"
      ],
      "metadata": {
        "colab": {
          "base_uri": "https://localhost:8080/"
        },
        "id": "QkHI8C59ydcO",
        "outputId": "3498f17c-b824-4c47-c4d6-8033c98ce9f0"
      },
      "execution_count": 20,
      "outputs": [
        {
          "output_type": "execute_result",
          "data": {
            "text/plain": [
              "['StudentID',\n",
              " 'Student_Names',\n",
              " 'Gender',\n",
              " 'Age',\n",
              " 'Attendance_Percentage',\n",
              " 'English_Score',\n",
              " 'Maths_Score',\n",
              " 'Physics_Score',\n",
              " 'Chemistry_Score',\n",
              " 'Biology_Score',\n",
              " 'Social_Studies_Score',\n",
              " 'Optional_Score',\n",
              " 'Graduation_Year']"
            ]
          },
          "metadata": {},
          "execution_count": 20
        }
      ]
    },
    {
      "cell_type": "code",
      "source": [
        "query = \"\"\"\n",
        "SELECT StudentID, Maths_Score\n",
        "FROM my_table\n",
        "ORDER BY Maths_Score DESC\n",
        "LIMIT 10\n",
        "\"\"\"\n",
        "spark.sql(query).show()\n"
      ],
      "metadata": {
        "colab": {
          "base_uri": "https://localhost:8080/"
        },
        "id": "UcK9JzG6zP_X",
        "outputId": "524f7b37-5c61-4469-f143-a7503db35008"
      },
      "execution_count": 21,
      "outputs": [
        {
          "output_type": "stream",
          "name": "stdout",
          "text": [
            "+---------+-----------+\n",
            "|StudentID|Maths_Score|\n",
            "+---------+-----------+\n",
            "|   530201|        100|\n",
            "|      804|        100|\n",
            "|   531340|        100|\n",
            "|     2083|        100|\n",
            "|   530237|        100|\n",
            "|     1172|        100|\n",
            "|   530091|        100|\n",
            "|       29|        100|\n",
            "|   530364|        100|\n",
            "|     1233|        100|\n",
            "+---------+-----------+\n",
            "\n"
          ]
        }
      ]
    }
  ]
}